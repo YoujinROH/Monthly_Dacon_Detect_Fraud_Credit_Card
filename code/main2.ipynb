{
 "cells": [
  {
   "cell_type": "code",
   "execution_count": 2,
   "metadata": {},
   "outputs": [],
   "source": [
    "import pandas as pd\n",
    "\n",
    "df = pd.read_csv('./data/train.csv')\n",
    "val_df = pd.read_csv('./data/val.csv')\n",
    "test_df = pd.read_csv('./data/test.csv')"
   ]
  },
  {
   "cell_type": "code",
   "execution_count": 3,
   "metadata": {},
   "outputs": [],
   "source": [
    "val_df.drop('ID',axis=1,inplace=True)"
   ]
  },
  {
   "cell_type": "code",
   "execution_count": 4,
   "metadata": {},
   "outputs": [
    {
     "data": {
      "text/plain": [
       "0.0010551491277433877"
      ]
     },
     "execution_count": 4,
     "metadata": {},
     "output_type": "execute_result"
    }
   ],
   "source": [
    "val_normal, val_fraud = val_df['Class'].value_counts()\n",
    "val_contamination = val_fraud / val_normal\n",
    "val_contamination"
   ]
  },
  {
   "cell_type": "markdown",
   "metadata": {},
   "source": [
    "# train"
   ]
  },
  {
   "cell_type": "markdown",
   "metadata": {},
   "source": [
    "## multivariate_normal"
   ]
  },
  {
   "cell_type": "code",
   "execution_count": 4,
   "metadata": {},
   "outputs": [
    {
     "name": "stdout",
     "output_type": "stream",
     "text": [
      "max prob of x on X_train 1.3751422423903634e-11\n",
      "mean prob of x on X_train 3.628782228283286e-13\n",
      "------------------------------------------------------------\n",
      "max prob of x on X_test 1.1882034144303131e-11\n",
      "mean prob of x on X_test 3.601238523353681e-13\n",
      "------------------------------------------------------------\n",
      "max prob of x on fraud_pca_data 4.1337547645646335e-14\n",
      "mean prob of x on fraud_pca_data 2.0601008323016835e-15\n",
      "------------------------------------------------------------\n",
      "Difference between mean prob of Train vs Test  2.754370492960489e-15\n"
     ]
    }
   ],
   "source": [
    "from scipy.stats import multivariate_normal\n",
    "import numpy as np\n",
    "\n",
    "p = multivariate_normal(mean=np.mean(val_df.drop('Class',axis=1),axis=0), cov=np.cov(val_df.drop('Class',axis=1).T))\n",
    "\n",
    "x = p.pdf(df.drop('ID',axis=1))\n",
    "print(\"max prob of x on X_train\", max(x))\n",
    "print(\"mean prob of x on X_train\", np.mean(x))\n",
    "print('-' * 60)\n",
    "MyTrain = np.mean(x)\n",
    "\n",
    "x = p.pdf(test_df.drop('ID',axis=1))\n",
    "print(\"max prob of x on X_test\", max(x))\n",
    "print(\"mean prob of x on X_test\", np.mean(x))\n",
    "print('-' * 60)\n",
    "MyTest = np.mean(x)\n",
    "\n",
    "x = p.pdf(val_df[val_df['Class']==1].drop('Class',axis=1))\n",
    "print(\"max prob of x on fraud_pca_data\", max(x))\n",
    "print(\"mean prob of x on fraud_pca_data\", np.mean(x))\n",
    "print('-' * 60)\n",
    "\n",
    "print('Difference between mean prob of Train vs Test ', MyTrain - MyTest)"
   ]
  },
  {
   "cell_type": "code",
   "execution_count": 5,
   "metadata": {},
   "outputs": [
    {
     "data": {
      "text/html": [
       "<div>\n",
       "<style scoped>\n",
       "    .dataframe tbody tr th:only-of-type {\n",
       "        vertical-align: middle;\n",
       "    }\n",
       "\n",
       "    .dataframe tbody tr th {\n",
       "        vertical-align: top;\n",
       "    }\n",
       "\n",
       "    .dataframe thead th {\n",
       "        text-align: right;\n",
       "    }\n",
       "</style>\n",
       "<table border=\"1\" class=\"dataframe\">\n",
       "  <thead>\n",
       "    <tr style=\"text-align: right;\">\n",
       "      <th></th>\n",
       "      <th>epsilon</th>\n",
       "      <th>F1</th>\n",
       "    </tr>\n",
       "  </thead>\n",
       "  <tbody>\n",
       "    <tr>\n",
       "      <th>0</th>\n",
       "      <td>1.000000e-10</td>\n",
       "      <td>0.0011</td>\n",
       "    </tr>\n",
       "    <tr>\n",
       "      <th>1</th>\n",
       "      <td>1.000000e-20</td>\n",
       "      <td>0.4912</td>\n",
       "    </tr>\n",
       "    <tr>\n",
       "      <th>2</th>\n",
       "      <td>1.000000e-30</td>\n",
       "      <td>0.5209</td>\n",
       "    </tr>\n",
       "    <tr>\n",
       "      <th>3</th>\n",
       "      <td>1.000000e-40</td>\n",
       "      <td>0.5335</td>\n",
       "    </tr>\n",
       "    <tr>\n",
       "      <th>4</th>\n",
       "      <td>1.000000e-50</td>\n",
       "      <td>0.5439</td>\n",
       "    </tr>\n",
       "  </tbody>\n",
       "</table>\n",
       "</div>"
      ],
      "text/plain": [
       "        epsilon      F1\n",
       "0  1.000000e-10  0.0011\n",
       "1  1.000000e-20  0.4912\n",
       "2  1.000000e-30  0.5209\n",
       "3  1.000000e-40  0.5335\n",
       "4  1.000000e-50  0.5439"
      ]
     },
     "execution_count": 5,
     "metadata": {},
     "output_type": "execute_result"
    }
   ],
   "source": [
    "from sklearn.metrics import f1_score\n",
    "\n",
    "x = p.pdf(val_df.drop('Class',axis=1))\n",
    "\n",
    "EpsF1 = []\n",
    "\n",
    "epsilons = [1e-10, 1e-20, 1e-30, 1e-40, 1e-50, 1e-60, 1e-70, 1e-80, 1e-90, 1e-100, 1e-110, 1e-120,\n",
    "           1e-130, 1e-140, 1e-150, 1e-160, 1e-170, 1e-180, 1e-190, 1e-200]\n",
    "\n",
    "for e in range(len(epsilons)):\n",
    "    eps = epsilons[e]\n",
    "    pred = (x <= eps)\n",
    "    f = f1_score(val_df['Class'], pred, average='macro')\n",
    "    #print(\"F1 score on test\", round(f,4), \" with epsilon \", eps)\n",
    "    EpsF1.append([eps, round(f,4)])\n",
    "    \n",
    "EpsF1df = pd.DataFrame(EpsF1, columns = ['epsilon', 'F1'])\n",
    "EpsF1df.head()"
   ]
  },
  {
   "cell_type": "code",
   "execution_count": 6,
   "metadata": {},
   "outputs": [
    {
     "data": {
      "text/plain": [
       "epsilon    1.000000e-180\n",
       "F1          6.472000e-01\n",
       "Name: 17, dtype: float64"
      ]
     },
     "execution_count": 6,
     "metadata": {},
     "output_type": "execute_result"
    }
   ],
   "source": [
    "EpsF1df.loc[EpsF1df['F1'].idxmax()]"
   ]
  },
  {
   "cell_type": "code",
   "execution_count": 7,
   "metadata": {},
   "outputs": [
    {
     "data": {
      "image/png": "[encoded data removed]",
      "text/plain": [
       "<Figure size 432x288 with 1 Axes>"
      ]
     },
     "metadata": {
      "needs_background": "light"
     },
     "output_type": "display_data"
    }
   ],
   "source": [
    "import matplotlib.pyplot as plt\n",
    "\n",
    "EpsF1df.plot.line(\"epsilon\",\"F1\")\n",
    "plt.xscale('log')\n",
    "plt.xlim(1e-10, 1e-200)\n",
    "plt.title(\"F1 vs decreasing log Epsilon\")\n",
    "plt.show()"
   ]
  },
  {
   "cell_type": "code",
   "execution_count": 8,
   "metadata": {},
   "outputs": [
    {
     "name": "stdout",
     "output_type": "stream",
     "text": [
      "epsilon  1e-180\n",
      "__________________________________________________\n"
     ]
    }
   ],
   "source": [
    "eps = EpsF1df.loc[EpsF1df['F1'].idxmax()]['epsilon']\n",
    "\n",
    "print(\"epsilon \", eps)\n",
    "print(\"_\"*50)\n",
    "mn_pred = (x<=eps)\n",
    "mn_pred = list(map(lambda x : 0 if x==True else 1, mn_pred))"
   ]
  },
  {
   "cell_type": "markdown",
   "metadata": {},
   "source": [
    "#### auto encoder"
   ]
  },
  {
   "cell_type": "code",
   "execution_count": 9,
   "metadata": {},
   "outputs": [],
   "source": [
    "# from keras.models import Model, load_model\n",
    "# from keras.layers import Input, Dense\n",
    "# from keras.callbacks import ModelCheckpoint, TensorBoard\n",
    "# from keras import regularizers"
   ]
  },
  {
   "cell_type": "code",
   "execution_count": 10,
   "metadata": {},
   "outputs": [],
   "source": [
    "# X_train = df.drop('ID',axis=1)"
   ]
  },
  {
   "cell_type": "code",
   "execution_count": 11,
   "metadata": {},
   "outputs": [],
   "source": [
    "# input_dim = X_train.shape[1]\n",
    "# encoding_dim = 14"
   ]
  },
  {
   "cell_type": "code",
   "execution_count": 12,
   "metadata": {},
   "outputs": [],
   "source": [
    "# # Keras Auto Encoder model\n",
    "\n",
    "# input_layer = Input(shape=(input_dim, ))\n",
    "\n",
    "# encoder = Dense(encoding_dim, activation=\"tanh\", \n",
    "#                 activity_regularizer=regularizers.l1(10e-5))(input_layer)\n",
    "# encoder = Dense(int(encoding_dim / 2), activation=\"relu\")(encoder)\n",
    "\n",
    "# decoder = Dense(int(encoding_dim / 2), activation='tanh')(encoder)\n",
    "# decoder = Dense(input_dim, activation='relu')(decoder)\n",
    "\n",
    "# autoencoder = Model(inputs=input_layer, outputs=decoder)\n",
    "\n",
    "# autoencoder.summary()"
   ]
  },
  {
   "cell_type": "code",
   "execution_count": 13,
   "metadata": {},
   "outputs": [],
   "source": [
    "# nb_epoch = 10\n",
    "# batch_size = 32\n",
    "\n",
    "# autoencoder.compile(optimizer='adam', \n",
    "#                     loss='mean_squared_error', \n",
    "#                     metrics=['accuracy'])\n",
    "\n",
    "# checkpointer = ModelCheckpoint(filepath=\"model.h5\",\n",
    "#                                verbose=0,\n",
    "#                                save_best_only=True)\n",
    "# tensorboard = TensorBoard(log_dir='./logs',\n",
    "#                           histogram_freq=0,\n",
    "#                           write_graph=True,\n",
    "#                           write_images=True)\n",
    "\n",
    "# history = autoencoder.fit(X_train, X_train,\n",
    "#                     epochs=nb_epoch,\n",
    "#                     batch_size=batch_size,\n",
    "#                     shuffle=True,\n",
    "#                     verbose=1,\n",
    "#                     callbacks=[checkpointer, tensorboard]).history"
   ]
  },
  {
   "cell_type": "markdown",
   "metadata": {},
   "source": [
    "## Local Outlier Factor (LOF)"
   ]
  },
  {
   "cell_type": "code",
   "execution_count": 14,
   "metadata": {},
   "outputs": [],
   "source": [
    "val_normal, val_fraud = val_df['Class'].value_counts()\n",
    "val_contamination = val_fraud / val_normal"
   ]
  },
  {
   "cell_type": "code",
   "execution_count": 15,
   "metadata": {},
   "outputs": [
    {
     "data": {
      "text/plain": [
       "23"
      ]
     },
     "execution_count": 15,
     "metadata": {},
     "output_type": "execute_result"
    }
   ],
   "source": [
    "# fit the model for outlier detection (default)\n",
    "from sklearn.neighbors import LocalOutlierFactor\n",
    "\n",
    "clf = LocalOutlierFactor(n_neighbors=50, contamination = val_contamination)\n",
    "# use fit_predict to compute the predicted labels of the training samples\n",
    "# (when LOF is used for outlier detection, the estimator has no predict,\n",
    "# decision_function and score_samples methods).\n",
    "y_pred = clf.fit_predict(val_df.drop('Class',axis=1))\n",
    "y_pred = list(map(lambda x : 1 if x==-1 else 0, y_pred))\n",
    "n_errors = (y_pred != val_df['Class']).sum()\n",
    "X_scores = clf.negative_outlier_factor_\n",
    "n_errors"
   ]
  },
  {
   "cell_type": "code",
   "execution_count": 16,
   "metadata": {},
   "outputs": [],
   "source": [
    "lof_pred = y_pred.copy()"
   ]
  },
  {
   "cell_type": "code",
   "execution_count": 17,
   "metadata": {},
   "outputs": [
    {
     "data": {
      "text/plain": [
       "0.8112731693633506"
      ]
     },
     "execution_count": 17,
     "metadata": {},
     "output_type": "execute_result"
    }
   ],
   "source": [
    "# F1 Score\n",
    "f1_score(val_df['Class'],lof_pred, average='macro')"
   ]
  },
  {
   "cell_type": "code",
   "execution_count": null,
   "metadata": {},
   "outputs": [],
   "source": []
  },
  {
   "cell_type": "markdown",
   "metadata": {},
   "source": [
    "## Isolation Forest"
   ]
  },
  {
   "cell_type": "code",
   "execution_count": 18,
   "metadata": {},
   "outputs": [
    {
     "name": "stderr",
     "output_type": "stream",
     "text": [
      "c:\\Users\\kimji\\.conda\\envs\\tf25_py37\\lib\\site-packages\\sklearn\\base.py:451: UserWarning: X does not have valid feature names, but IsolationForest was fitted with feature names\n",
      "  \"X does not have valid feature names, but\"\n"
     ]
    },
    {
     "name": "stdout",
     "output_type": "stream",
     "text": [
      "39\n"
     ]
    }
   ],
   "source": [
    "from sklearn.ensemble import IsolationForest\n",
    "\n",
    "# isofo = IsolationForest(n_estimators = 1050, max_features = 1.0, max_samples=1.0, \n",
    "#                          bootstrap=False, random_state=22,\n",
    "#                         contamination = val_contamination)\n",
    "\n",
    "isofo = IsolationForest(n_estimators = 125, max_features = 1.0, max_samples=len(val_df.drop('Class',axis=1)), \n",
    "                         bootstrap=False, random_state=22,\n",
    "                        contamination = val_contamination,\n",
    "                        verbose=0)\n",
    "\n",
    "y_pred = isofo.fit_predict(val_df.drop('Class',axis=1))\n",
    "y_pred = list(map(lambda x : 1 if x==-1 else 0, y_pred))\n",
    "n_errors = (y_pred != val_df['Class']).sum()\n",
    "print(n_errors)"
   ]
  },
  {
   "cell_type": "code",
   "execution_count": 19,
   "metadata": {},
   "outputs": [],
   "source": [
    "if_pred = y_pred.copy()"
   ]
  },
  {
   "cell_type": "code",
   "execution_count": 20,
   "metadata": {},
   "outputs": [
    {
     "data": {
      "text/plain": [
       "0.6799849393552464"
      ]
     },
     "execution_count": 20,
     "metadata": {},
     "output_type": "execute_result"
    }
   ],
   "source": [
    "# F1 Score\n",
    "f1_score(val_df['Class'],if_pred, average='macro')"
   ]
  },
  {
   "cell_type": "code",
   "execution_count": null,
   "metadata": {},
   "outputs": [],
   "source": []
  },
  {
   "cell_type": "markdown",
   "metadata": {},
   "source": [
    "## One Class SVM"
   ]
  },
  {
   "cell_type": "code",
   "execution_count": 21,
   "metadata": {},
   "outputs": [
    {
     "name": "stdout",
     "output_type": "stream",
     "text": [
      "295\n"
     ]
    }
   ],
   "source": [
    "from sklearn.svm import OneClassSVM\n",
    "\n",
    "\n",
    "OneSVM = OneClassSVM(nu = val_contamination)\n",
    "\n",
    "y_pred = OneSVM.fit_predict(val_df.drop('Class',axis=1))\n",
    "y_pred = list(map(lambda x : 1 if x==-1 else 0, y_pred))\n",
    "n_errors = (y_pred != val_df['Class']).sum()\n",
    "print(n_errors)"
   ]
  },
  {
   "cell_type": "code",
   "execution_count": 22,
   "metadata": {},
   "outputs": [],
   "source": [
    "oc_pred = y_pred.copy()"
   ]
  },
  {
   "cell_type": "code",
   "execution_count": 23,
   "metadata": {},
   "outputs": [
    {
     "data": {
      "text/plain": [
       "0.5350117779840998"
      ]
     },
     "execution_count": 23,
     "metadata": {},
     "output_type": "execute_result"
    }
   ],
   "source": [
    "# F1 Score\n",
    "f1_score(val_df['Class'],oc_pred, average='macro')"
   ]
  },
  {
   "cell_type": "markdown",
   "metadata": {},
   "source": [
    "## EllipticEnvelope"
   ]
  },
  {
   "cell_type": "code",
   "execution_count": 24,
   "metadata": {},
   "outputs": [],
   "source": [
    "from sklearn.covariance import EllipticEnvelope\n",
    "\n",
    "cov = EllipticEnvelope(support_fraction = 1,assume_centered=False, contamination = val_contamination,random_state=777)\n",
    "ee_pred = cov.fit_predict(val_df)\n",
    "ee_pred = list(map(lambda x : 0 if x==1 else 1, ee_pred))"
   ]
  },
  {
   "cell_type": "code",
   "execution_count": 31,
   "metadata": {},
   "outputs": [],
   "source": [
    "ls = []\n",
    "\n",
    "for i,j,k,l,m in zip(mn_pred, lof_pred, if_pred, oc_pred, ee_pred):\n",
    "    if i+j+k+l+m > 2:\n",
    "        ls.append(1)\n",
    "    else:\n",
    "        ls.append(0)"
   ]
  },
  {
   "cell_type": "code",
   "execution_count": 32,
   "metadata": {},
   "outputs": [
    {
     "data": {
      "text/plain": [
       "0.8440952268653764"
      ]
     },
     "execution_count": 32,
     "metadata": {},
     "output_type": "execute_result"
    }
   ],
   "source": [
    "f1_score(val_df['Class'],ls, average='macro')"
   ]
  },
  {
   "cell_type": "markdown",
   "metadata": {},
   "source": [
    "# test"
   ]
  },
  {
   "cell_type": "markdown",
   "metadata": {},
   "source": [
    "## multivariate_normal"
   ]
  },
  {
   "cell_type": "code",
   "execution_count": null,
   "metadata": {},
   "outputs": [],
   "source": [
    "from scipy.stats import multivariate_normal\n",
    "import numpy as np\n",
    "\n",
    "p = multivariate_normal(mean=np.mean(test_df.drop('ID',axis=1),axis=0), cov=np.cov(test_df.drop('ID',axis=1).T))"
   ]
  },
  {
   "cell_type": "code",
   "execution_count": null,
   "metadata": {},
   "outputs": [],
   "source": [
    "eps = 1e-180\n",
    "x = p.pdf(test_df.drop('ID',axis=1))\n",
    "mn_pred = (x<=eps)\n",
    "mn_pred = list(map(lambda x : 0 if x==False else 1, mn_pred))"
   ]
  },
  {
   "cell_type": "markdown",
   "metadata": {},
   "source": [
    "## Local Outlier Factor (LOF)"
   ]
  },
  {
   "cell_type": "code",
   "execution_count": null,
   "metadata": {},
   "outputs": [],
   "source": [
    "val_normal, val_fraud = val_df['Class'].value_counts()\n",
    "val_contamination = val_fraud / val_normal"
   ]
  },
  {
   "cell_type": "code",
   "execution_count": null,
   "metadata": {},
   "outputs": [],
   "source": [
    "# fit the model for outlier detection (default)\n",
    "from sklearn.neighbors import LocalOutlierFactor\n",
    "\n",
    "clf = LocalOutlierFactor(n_neighbors=50, contamination = val_contamination)\n",
    "y_pred = clf.fit_predict(test_df.drop('ID',axis=1))\n",
    "y_pred = list(map(lambda x : 1 if x==-1 else 0, y_pred))\n",
    "lof_pred = y_pred.copy()"
   ]
  },
  {
   "cell_type": "markdown",
   "metadata": {},
   "source": [
    "## Isolation Forest"
   ]
  },
  {
   "cell_type": "code",
   "execution_count": null,
   "metadata": {},
   "outputs": [],
   "source": [
    "from sklearn.ensemble import IsolationForest\n",
    "\n",
    "isofo = IsolationForest(n_estimators = 125, max_features = 1.0, max_samples=len(test_df.drop('ID',axis=1)), \n",
    "                         bootstrap=False, random_state=22,\n",
    "                        contamination = val_contamination,\n",
    "                        verbose=0)\n",
    "\n",
    "y_pred = isofo.fit_predict(test_df.drop('ID',axis=1))\n",
    "y_pred = list(map(lambda x : 1 if x==-1 else 0, y_pred))\n",
    "if_pred = y_pred.copy()"
   ]
  },
  {
   "cell_type": "markdown",
   "metadata": {},
   "source": [
    "## One Class SVM"
   ]
  },
  {
   "cell_type": "code",
   "execution_count": null,
   "metadata": {},
   "outputs": [],
   "source": [
    "from sklearn.svm import OneClassSVM\n",
    "\n",
    "\n",
    "OneSVM = OneClassSVM(nu = val_contamination)\n",
    "\n",
    "y_pred = OneSVM.fit_predict(test_df.drop('ID',axis=1))\n",
    "y_pred = list(map(lambda x : 1 if x==-1 else 0, y_pred))\n",
    "oc_pred = y_pred.copy()"
   ]
  },
  {
   "cell_type": "markdown",
   "metadata": {},
   "source": [
    "## EllipticEnvelope"
   ]
  },
  {
   "cell_type": "code",
   "execution_count": null,
   "metadata": {},
   "outputs": [],
   "source": [
    "from sklearn.covariance import EllipticEnvelope\n",
    "\n",
    "cov = EllipticEnvelope(support_fraction = 1,assume_centered=False, contamination = val_contamination,random_state=777)\n",
    "ee_pred = cov.fit_predict(test_df.drop('ID',axis=1))\n",
    "ee_pred = list(map(lambda x : 0 if x==1 else 1, ee_pred))"
   ]
  },
  {
   "cell_type": "code",
   "execution_count": null,
   "metadata": {},
   "outputs": [],
   "source": [
    "mn_pred\n",
    "lof_pred\n",
    "if_pred\n",
    "oc_pred\n",
    "ee_pred"
   ]
  },
  {
   "cell_type": "code",
   "execution_count": null,
   "metadata": {},
   "outputs": [],
   "source": [
    "ls = []\n",
    "\n",
    "for i,j,k,l,m in zip(mn_pred, lof_pred, if_pred, oc_pred, ee_pred):\n",
    "    if i+j+k+l+m > 2:\n",
    "        ls.append(1)\n",
    "    else:\n",
    "        ls.append(0)"
   ]
  },
  {
   "cell_type": "code",
   "execution_count": null,
   "metadata": {},
   "outputs": [],
   "source": [
    "pd.DataFrame(ls).value_counts()"
   ]
  },
  {
   "cell_type": "code",
   "execution_count": null,
   "metadata": {},
   "outputs": [],
   "source": [
    "submit = pd.read_csv('./data/sample_submission.csv')\n",
    "submit['Class'] = ls\n",
    "submit.to_csv('./submit_merge.csv', index=False)"
   ]
  }
 ],
 "metadata": {
  "kernelspec": {
   "display_name": "Python 3.7.11 ('tf25_py37')",
   "language": "python",
   "name": "python3"
  },
  "language_info": {
   "codemirror_mode": {
    "name": "ipython",
    "version": 3
   },
   "file_extension": ".py",
   "mimetype": "text/x-python",
   "name": "python",
   "nbconvert_exporter": "python",
   "pygments_lexer": "ipython3",
   "version": "3.7.11"
  },
  "orig_nbformat": 4,
  "vscode": {
   "interpreter": {
    "hash": "4d99a89e58dec559eb3ff443068297ccb264d17860a071e9af3bad1687e15cc3"
   }
  }
 },
 "nbformat": 4,
 "nbformat_minor": 2
}
